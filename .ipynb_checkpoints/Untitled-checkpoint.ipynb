{
 "cells": [
  {
   "cell_type": "markdown",
   "id": "2add73d1-3347-4a6b-9163-a95f55d8715e",
   "metadata": {},
   "source": [
    "# Iteración en Python\n",
    "\n",
    "La iteración es un concepto fundamental en programación que permite ejecutar un bloque de código repetidamente. Python proporciona varias formas de iterar, siendo las más comunes los bucles `for` y `while`.\n",
    "\n",
    "---\n",
    "\n",
    "## Bucle `for`\n",
    "\n",
    "El bucle `for` en Python se utiliza para iterar sobre secuencias como listas, tuplas, diccionarios, conjuntos y cadenas.\n",
    "\n",
    "### Ejemplo:\n",
    "\n",
    "```python\n",
    "frutas = [\"manzana\", \"banana\", \"cereza\"]\n",
    "for fruta in frutas:\n",
    "    print(fruta)\n",
    "```"
   ]
  },
  {
   "cell_type": "code",
   "execution_count": null,
   "id": "5382414e-a2dd-47e5-8d1f-6a40f0463b1e",
   "metadata": {},
   "outputs": [],
   "source": []
  }
 ],
 "metadata": {
  "kernelspec": {
   "display_name": "Python [conda env:base] *",
   "language": "python",
   "name": "conda-base-py"
  },
  "language_info": {
   "codemirror_mode": {
    "name": "ipython",
    "version": 3
   },
   "file_extension": ".py",
   "mimetype": "text/x-python",
   "name": "python",
   "nbconvert_exporter": "python",
   "pygments_lexer": "ipython3",
   "version": "3.12.7"
  }
 },
 "nbformat": 4,
 "nbformat_minor": 5
}
